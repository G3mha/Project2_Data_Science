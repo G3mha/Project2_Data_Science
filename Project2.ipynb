{
 "cells": [
  {
   "cell_type": "markdown",
   "id": "1c410472",
   "metadata": {},
   "source": [
    "# Projeto 2 - C Dados\n",
    "\n",
    "_Português - Este Projeto está atualmente sendo mantido por Enricco Gemha, Paola BBS Friedel, Rafael C Leventhal, Marcelo R Barranco._\n",
    "\n",
    "_English - This Project is currently being held by Enricco Gemha, Paola BBS Friedel, Rafael C Leventhal, Marcelo R Barranco._"
   ]
  },
  {
   "cell_type": "markdown",
   "id": "0b345bf5",
   "metadata": {},
   "source": [
    "# Prólogo\n",
    "\n",
    "Este projeto tem como escopo responder a seguinte questão: \"Dado que o aluno reprovou em uma matéria escolar no ano anterior, qual a chance dele ter sua média final maior que 5 no ano seguinte ?\". \n",
    "\n",
    "Portanto, buscamos predizer o comportamento de um aluno no ano seguinte de sua reprovação. Para isso devemos levar em conta o significado do termo conhecido como **nota escolar**, sendo a avaliação de um professor sobre o esforço do aluno, seja este situado em qualquer parte do sistema de ensino. Para mensurar avaliação são estabelecidas provas escritas (ou orais) e trabalhos extras (individuais ou em grupo). Para efeitos desse projeto, a nota escolar será mensurada por valores inteiros de 0 a 20."
   ]
  },
  {
   "cell_type": "markdown",
   "id": "3dd9bac7",
   "metadata": {},
   "source": [
    "<img src=\"img/boletim_escolar.png\" alt=\"boletim escolar\" width=\"500\"/>\n",
    "\n",
    "##### acima temos uma imagem que exemplifica o documento que descreve as notas escolares, conhecido como boletim escolar "
   ]
  },
  {
   "cell_type": "markdown",
   "id": "4f82df9d",
   "metadata": {},
   "source": [
    "# Base de dados"
   ]
  },
  {
   "cell_type": "markdown",
   "id": "0ea65262",
   "metadata": {},
   "source": [
    "Para podermos versar sobre o objetivo descrito acima, necessitamos de uma base de dados sobre o assunto para analisar. Assim, escolheu-se o \"Student Grade Prediction\", ou Predição da Nota Escolar de Aluno: [database](https://www.kaggle.com/dipam7/student-grade-prediction). Ela é cortesia da University of California Irvine (UCI)."
   ]
  },
  {
   "cell_type": "markdown",
   "id": "ef852300",
   "metadata": {},
   "source": [
    "## Target"
   ]
  },
  {
   "cell_type": "markdown",
   "id": "2080b1b0",
   "metadata": {},
   "source": [
    "`G3`: foi escolhida como o target, ou seja, a variável que será o foco da relação com outras variáveis.\n",
    "O target escolhido é do tipo Quantitativo, sendo a nota escolar de um aluno, que varia entre 0 e 20."
   ]
  },
  {
   "cell_type": "markdown",
   "id": "76d751f9",
   "metadata": {},
   "source": [
    "## Features"
   ]
  },
  {
   "cell_type": "markdown",
   "id": "ca031337",
   "metadata": {},
   "source": [
    "`sex` - sexo do estudante (binário: 'F' - feminino ou 'M' - masculino)\n",
    "\n",
    "`age` - idade do estudante (numérico: de 15 a 22)\n",
    "\n",
    "`address` - tipo do endereço de residência do estudante (binário: 'U' - urbano ou 'R' - rural)\n",
    "\n",
    "`famsize` - tamanho da família do estudante (binário: 'LE3' - maior ou igual a 3 ou 'GT3' - maior que 3)\n",
    "\n",
    "`Pstatus` - status de relacionamento dos pais (binário: 'T' - morando juntos ou 'A' - separados)\n",
    "\n",
    "`Medu` - educação da mãe (numérico: 0 - nenhum, 1 - educação primária (4a série), 2 - 5a a 9a série, 3 - educação secundária ou 4 - educação superior)\n",
    "\n",
    "`Fedu` - educação do pai (numérico: 0 - nenhum, 1 - educação primária (4a série), 2 - 5a a 9a série, 3 - educação secundária ou 4 - educação superior)\n",
    "\n",
    "`Mjob` - trabalho da mãe (nominal: 'teacher', 'health' relacionado, civil 'services' (ex: policial), 'at_home' ou 'other')\n",
    "\n",
    "`Fjob` - trabalho do pai (nominal: 'teacher', 'health' relacionado, civil 'services' (ex: policial), 'at_home' ou 'other')\n",
    "\n",
    "`reason` - razão para escolher a escola (nominal: perto de 'home', 'reputation' da escola, preferencia de 'course' ou 'other')\n",
    "\n",
    "`guardian` - guardião do estudante (nominal: 'mother', 'father' ou 'other')\n",
    "\n",
    "`traveltime` - tempo de viagem a escola (numérico: 1 - <15 min., 2 - 15 a 30 min., 3 - 30 min. a 1 hora, ou 4 - >1 hora)\n",
    "\n",
    "`studytime` - tempo de estudo diário (numérico: 1 - <2 horas, 2 - 2 a 5 horas, 3 - 5 a 10 horas, ou 4 - >10 horas)\n",
    "\n",
    "`failures` - número de reprovações (numérico: `n` se o tamanho<=`n`<3, outro `n`=4)\n",
    "\n",
    "`schoolsup` - suporte educacional extra (binário: yes ou no)\n",
    "\n",
    "`famsup` - family educational support (binário: yes ou no)\n",
    "\n",
    "`paid` - aulas extras pagas (binário: yes ou no)\n",
    "\n",
    "`activities` - faz atividades extra-curricular (binário: yes ou no)\n",
    "\n",
    "`nursery` - visitou a enfermaria da escola (binário: yes ou no)\n",
    "\n",
    "`higher` - quer cursar ensino superior (binário: yes ou no)\n",
    "\n",
    "`internet` - tem acesso à Internet em casa (binário: yes ou no)\n",
    "\n",
    "`romantic` - em um relacionamento romântico (binário: yes ou no)\n",
    "\n",
    "`famrel` - qualidade do relacionamento familiar (numérico: de 1 - muito ruim a 5 - excelente)\n",
    "\n",
    "`freetime` - tempo livre depois da escola (numérico: de 1 - muito baixa a 5 - muito alta)\n",
    "\n",
    "`goout` - sai com os amigos (numérico: de 1 - muito baixa a 5 - muito alta)\n",
    "\n",
    "`Dalc` - consumo de álcool em dia de trabalho (numérico: de 1 - muito baixa a 5 - muito alta)\n",
    "\n",
    "`Walc` - consumo de álcool no final de semana (numérico: de 1 - muito baixa a 5 - muito alta)\n",
    "\n",
    "`health` - status atual de saúde (numérico: de 1 - muito baixo a 5 - muito bom)\n",
    "\n",
    "`absences` - número de faltas nas aulas (numérico: de 0 a 93)"
   ]
  },
  {
   "cell_type": "markdown",
   "id": "0ddbe8d0",
   "metadata": {},
   "source": [
    "# Considerações iniciais\n",
    "Para nos referirmos a certos termos recorrentes, usaremos abreviações, todas listadas abaixo:\n",
    "- df: DataFrame;\n",
    "- pd: biblioteca do Python chamada Pandas."
   ]
  },
  {
   "cell_type": "markdown",
   "id": "d2926168",
   "metadata": {},
   "source": [
    "# Kickstart do Projeto"
   ]
  },
  {
   "cell_type": "markdown",
   "id": "9bbeb16b",
   "metadata": {},
   "source": [
    "Importando bibliotecas que serão utilizadas e definindo ajustes."
   ]
  },
  {
   "cell_type": "code",
   "execution_count": 1,
   "id": "05f44dfa",
   "metadata": {},
   "outputs": [],
   "source": [
    "import pandas as pd\n",
    "import numpy as np\n",
    "import seaborn as sns\n",
    "from scipy import stats\n",
    "import matplotlib.pyplot as plt\n",
    "import os"
   ]
  },
  {
   "cell_type": "markdown",
   "id": "80b98568",
   "metadata": {},
   "source": [
    "Visualizando o diretório no qual iremos trabalhar."
   ]
  },
  {
   "cell_type": "code",
   "execution_count": 2,
   "id": "e69a604d",
   "metadata": {},
   "outputs": [
    {
     "name": "stdout",
     "output_type": "stream",
     "text": [
      "Esperamos trabalhar no diretório\n",
      "/home/enricco/Documents/Project2_Data_Science\n"
     ]
    }
   ],
   "source": [
    "print('Esperamos trabalhar no diretório')\n",
    "print(os.getcwd())"
   ]
  },
  {
   "cell_type": "markdown",
   "id": "648a1d5c",
   "metadata": {},
   "source": [
    "Lendo o dataset e visualizando o df."
   ]
  },
  {
   "cell_type": "code",
   "execution_count": 3,
   "id": "c15d1974",
   "metadata": {},
   "outputs": [
    {
     "data": {
      "text/html": [
       "<div>\n",
       "<style scoped>\n",
       "    .dataframe tbody tr th:only-of-type {\n",
       "        vertical-align: middle;\n",
       "    }\n",
       "\n",
       "    .dataframe tbody tr th {\n",
       "        vertical-align: top;\n",
       "    }\n",
       "\n",
       "    .dataframe thead th {\n",
       "        text-align: right;\n",
       "    }\n",
       "</style>\n",
       "<table border=\"1\" class=\"dataframe\">\n",
       "  <thead>\n",
       "    <tr style=\"text-align: right;\">\n",
       "      <th></th>\n",
       "      <th>school</th>\n",
       "      <th>sex</th>\n",
       "      <th>age</th>\n",
       "      <th>address</th>\n",
       "      <th>famsize</th>\n",
       "      <th>Pstatus</th>\n",
       "      <th>Medu</th>\n",
       "      <th>Fedu</th>\n",
       "      <th>Mjob</th>\n",
       "      <th>Fjob</th>\n",
       "      <th>...</th>\n",
       "      <th>famrel</th>\n",
       "      <th>freetime</th>\n",
       "      <th>goout</th>\n",
       "      <th>Dalc</th>\n",
       "      <th>Walc</th>\n",
       "      <th>health</th>\n",
       "      <th>absences</th>\n",
       "      <th>G1</th>\n",
       "      <th>G2</th>\n",
       "      <th>G3</th>\n",
       "    </tr>\n",
       "  </thead>\n",
       "  <tbody>\n",
       "    <tr>\n",
       "      <th>0</th>\n",
       "      <td>GP</td>\n",
       "      <td>F</td>\n",
       "      <td>18</td>\n",
       "      <td>U</td>\n",
       "      <td>GT3</td>\n",
       "      <td>A</td>\n",
       "      <td>4</td>\n",
       "      <td>4</td>\n",
       "      <td>at_home</td>\n",
       "      <td>teacher</td>\n",
       "      <td>...</td>\n",
       "      <td>4</td>\n",
       "      <td>3</td>\n",
       "      <td>4</td>\n",
       "      <td>1</td>\n",
       "      <td>1</td>\n",
       "      <td>3</td>\n",
       "      <td>6</td>\n",
       "      <td>5</td>\n",
       "      <td>6</td>\n",
       "      <td>6</td>\n",
       "    </tr>\n",
       "    <tr>\n",
       "      <th>1</th>\n",
       "      <td>GP</td>\n",
       "      <td>F</td>\n",
       "      <td>17</td>\n",
       "      <td>U</td>\n",
       "      <td>GT3</td>\n",
       "      <td>T</td>\n",
       "      <td>1</td>\n",
       "      <td>1</td>\n",
       "      <td>at_home</td>\n",
       "      <td>other</td>\n",
       "      <td>...</td>\n",
       "      <td>5</td>\n",
       "      <td>3</td>\n",
       "      <td>3</td>\n",
       "      <td>1</td>\n",
       "      <td>1</td>\n",
       "      <td>3</td>\n",
       "      <td>4</td>\n",
       "      <td>5</td>\n",
       "      <td>5</td>\n",
       "      <td>6</td>\n",
       "    </tr>\n",
       "    <tr>\n",
       "      <th>2</th>\n",
       "      <td>GP</td>\n",
       "      <td>F</td>\n",
       "      <td>15</td>\n",
       "      <td>U</td>\n",
       "      <td>LE3</td>\n",
       "      <td>T</td>\n",
       "      <td>1</td>\n",
       "      <td>1</td>\n",
       "      <td>at_home</td>\n",
       "      <td>other</td>\n",
       "      <td>...</td>\n",
       "      <td>4</td>\n",
       "      <td>3</td>\n",
       "      <td>2</td>\n",
       "      <td>2</td>\n",
       "      <td>3</td>\n",
       "      <td>3</td>\n",
       "      <td>10</td>\n",
       "      <td>7</td>\n",
       "      <td>8</td>\n",
       "      <td>10</td>\n",
       "    </tr>\n",
       "    <tr>\n",
       "      <th>3</th>\n",
       "      <td>GP</td>\n",
       "      <td>F</td>\n",
       "      <td>15</td>\n",
       "      <td>U</td>\n",
       "      <td>GT3</td>\n",
       "      <td>T</td>\n",
       "      <td>4</td>\n",
       "      <td>2</td>\n",
       "      <td>health</td>\n",
       "      <td>services</td>\n",
       "      <td>...</td>\n",
       "      <td>3</td>\n",
       "      <td>2</td>\n",
       "      <td>2</td>\n",
       "      <td>1</td>\n",
       "      <td>1</td>\n",
       "      <td>5</td>\n",
       "      <td>2</td>\n",
       "      <td>15</td>\n",
       "      <td>14</td>\n",
       "      <td>15</td>\n",
       "    </tr>\n",
       "    <tr>\n",
       "      <th>4</th>\n",
       "      <td>GP</td>\n",
       "      <td>F</td>\n",
       "      <td>16</td>\n",
       "      <td>U</td>\n",
       "      <td>GT3</td>\n",
       "      <td>T</td>\n",
       "      <td>3</td>\n",
       "      <td>3</td>\n",
       "      <td>other</td>\n",
       "      <td>other</td>\n",
       "      <td>...</td>\n",
       "      <td>4</td>\n",
       "      <td>3</td>\n",
       "      <td>2</td>\n",
       "      <td>1</td>\n",
       "      <td>2</td>\n",
       "      <td>5</td>\n",
       "      <td>4</td>\n",
       "      <td>6</td>\n",
       "      <td>10</td>\n",
       "      <td>10</td>\n",
       "    </tr>\n",
       "  </tbody>\n",
       "</table>\n",
       "<p>5 rows × 33 columns</p>\n",
       "</div>"
      ],
      "text/plain": [
       "  school sex  age address famsize Pstatus  Medu  Fedu     Mjob      Fjob  ...  \\\n",
       "0     GP   F   18       U     GT3       A     4     4  at_home   teacher  ...   \n",
       "1     GP   F   17       U     GT3       T     1     1  at_home     other  ...   \n",
       "2     GP   F   15       U     LE3       T     1     1  at_home     other  ...   \n",
       "3     GP   F   15       U     GT3       T     4     2   health  services  ...   \n",
       "4     GP   F   16       U     GT3       T     3     3    other     other  ...   \n",
       "\n",
       "  famrel freetime  goout  Dalc  Walc health absences  G1  G2  G3  \n",
       "0      4        3      4     1     1      3        6   5   6   6  \n",
       "1      5        3      3     1     1      3        4   5   5   6  \n",
       "2      4        3      2     2     3      3       10   7   8  10  \n",
       "3      3        2      2     1     1      5        2  15  14  15  \n",
       "4      4        3      2     1     2      5        4   6  10  10  \n",
       "\n",
       "[5 rows x 33 columns]"
      ]
     },
     "execution_count": 3,
     "metadata": {},
     "output_type": "execute_result"
    }
   ],
   "source": [
    "students = pd.read_csv('dataset/students.csv')\n",
    "students.head(5)"
   ]
  },
  {
   "cell_type": "markdown",
   "id": "9f0ff8cc",
   "metadata": {},
   "source": [
    "# Limpando o df"
   ]
  },
  {
   "cell_type": "markdown",
   "id": "e03e9b50",
   "metadata": {},
   "source": [
    "Retirar do df as features (colunas) cujas informações não são relevantes a este projeto."
   ]
  },
  {
   "cell_type": "code",
   "execution_count": 4,
   "id": "d00a2e88",
   "metadata": {},
   "outputs": [
    {
     "data": {
      "text/html": [
       "<div>\n",
       "<style scoped>\n",
       "    .dataframe tbody tr th:only-of-type {\n",
       "        vertical-align: middle;\n",
       "    }\n",
       "\n",
       "    .dataframe tbody tr th {\n",
       "        vertical-align: top;\n",
       "    }\n",
       "\n",
       "    .dataframe thead th {\n",
       "        text-align: right;\n",
       "    }\n",
       "</style>\n",
       "<table border=\"1\" class=\"dataframe\">\n",
       "  <thead>\n",
       "    <tr style=\"text-align: right;\">\n",
       "      <th></th>\n",
       "      <th>sex</th>\n",
       "      <th>age</th>\n",
       "      <th>address</th>\n",
       "      <th>famsize</th>\n",
       "      <th>Pstatus</th>\n",
       "      <th>Medu</th>\n",
       "      <th>Fedu</th>\n",
       "      <th>Mjob</th>\n",
       "      <th>Fjob</th>\n",
       "      <th>reason</th>\n",
       "      <th>...</th>\n",
       "      <th>famrel</th>\n",
       "      <th>freetime</th>\n",
       "      <th>goout</th>\n",
       "      <th>Dalc</th>\n",
       "      <th>Walc</th>\n",
       "      <th>health</th>\n",
       "      <th>absences</th>\n",
       "      <th>G1</th>\n",
       "      <th>G2</th>\n",
       "      <th>G3</th>\n",
       "    </tr>\n",
       "  </thead>\n",
       "  <tbody>\n",
       "    <tr>\n",
       "      <th>0</th>\n",
       "      <td>F</td>\n",
       "      <td>18</td>\n",
       "      <td>U</td>\n",
       "      <td>GT3</td>\n",
       "      <td>A</td>\n",
       "      <td>4</td>\n",
       "      <td>4</td>\n",
       "      <td>at_home</td>\n",
       "      <td>teacher</td>\n",
       "      <td>course</td>\n",
       "      <td>...</td>\n",
       "      <td>4</td>\n",
       "      <td>3</td>\n",
       "      <td>4</td>\n",
       "      <td>1</td>\n",
       "      <td>1</td>\n",
       "      <td>3</td>\n",
       "      <td>6</td>\n",
       "      <td>5</td>\n",
       "      <td>6</td>\n",
       "      <td>6</td>\n",
       "    </tr>\n",
       "    <tr>\n",
       "      <th>1</th>\n",
       "      <td>F</td>\n",
       "      <td>17</td>\n",
       "      <td>U</td>\n",
       "      <td>GT3</td>\n",
       "      <td>T</td>\n",
       "      <td>1</td>\n",
       "      <td>1</td>\n",
       "      <td>at_home</td>\n",
       "      <td>other</td>\n",
       "      <td>course</td>\n",
       "      <td>...</td>\n",
       "      <td>5</td>\n",
       "      <td>3</td>\n",
       "      <td>3</td>\n",
       "      <td>1</td>\n",
       "      <td>1</td>\n",
       "      <td>3</td>\n",
       "      <td>4</td>\n",
       "      <td>5</td>\n",
       "      <td>5</td>\n",
       "      <td>6</td>\n",
       "    </tr>\n",
       "    <tr>\n",
       "      <th>2</th>\n",
       "      <td>F</td>\n",
       "      <td>15</td>\n",
       "      <td>U</td>\n",
       "      <td>LE3</td>\n",
       "      <td>T</td>\n",
       "      <td>1</td>\n",
       "      <td>1</td>\n",
       "      <td>at_home</td>\n",
       "      <td>other</td>\n",
       "      <td>other</td>\n",
       "      <td>...</td>\n",
       "      <td>4</td>\n",
       "      <td>3</td>\n",
       "      <td>2</td>\n",
       "      <td>2</td>\n",
       "      <td>3</td>\n",
       "      <td>3</td>\n",
       "      <td>10</td>\n",
       "      <td>7</td>\n",
       "      <td>8</td>\n",
       "      <td>10</td>\n",
       "    </tr>\n",
       "    <tr>\n",
       "      <th>3</th>\n",
       "      <td>F</td>\n",
       "      <td>15</td>\n",
       "      <td>U</td>\n",
       "      <td>GT3</td>\n",
       "      <td>T</td>\n",
       "      <td>4</td>\n",
       "      <td>2</td>\n",
       "      <td>health</td>\n",
       "      <td>services</td>\n",
       "      <td>home</td>\n",
       "      <td>...</td>\n",
       "      <td>3</td>\n",
       "      <td>2</td>\n",
       "      <td>2</td>\n",
       "      <td>1</td>\n",
       "      <td>1</td>\n",
       "      <td>5</td>\n",
       "      <td>2</td>\n",
       "      <td>15</td>\n",
       "      <td>14</td>\n",
       "      <td>15</td>\n",
       "    </tr>\n",
       "    <tr>\n",
       "      <th>4</th>\n",
       "      <td>F</td>\n",
       "      <td>16</td>\n",
       "      <td>U</td>\n",
       "      <td>GT3</td>\n",
       "      <td>T</td>\n",
       "      <td>3</td>\n",
       "      <td>3</td>\n",
       "      <td>other</td>\n",
       "      <td>other</td>\n",
       "      <td>home</td>\n",
       "      <td>...</td>\n",
       "      <td>4</td>\n",
       "      <td>3</td>\n",
       "      <td>2</td>\n",
       "      <td>1</td>\n",
       "      <td>2</td>\n",
       "      <td>5</td>\n",
       "      <td>4</td>\n",
       "      <td>6</td>\n",
       "      <td>10</td>\n",
       "      <td>10</td>\n",
       "    </tr>\n",
       "    <tr>\n",
       "      <th>...</th>\n",
       "      <td>...</td>\n",
       "      <td>...</td>\n",
       "      <td>...</td>\n",
       "      <td>...</td>\n",
       "      <td>...</td>\n",
       "      <td>...</td>\n",
       "      <td>...</td>\n",
       "      <td>...</td>\n",
       "      <td>...</td>\n",
       "      <td>...</td>\n",
       "      <td>...</td>\n",
       "      <td>...</td>\n",
       "      <td>...</td>\n",
       "      <td>...</td>\n",
       "      <td>...</td>\n",
       "      <td>...</td>\n",
       "      <td>...</td>\n",
       "      <td>...</td>\n",
       "      <td>...</td>\n",
       "      <td>...</td>\n",
       "      <td>...</td>\n",
       "    </tr>\n",
       "    <tr>\n",
       "      <th>390</th>\n",
       "      <td>M</td>\n",
       "      <td>20</td>\n",
       "      <td>U</td>\n",
       "      <td>LE3</td>\n",
       "      <td>A</td>\n",
       "      <td>2</td>\n",
       "      <td>2</td>\n",
       "      <td>services</td>\n",
       "      <td>services</td>\n",
       "      <td>course</td>\n",
       "      <td>...</td>\n",
       "      <td>5</td>\n",
       "      <td>5</td>\n",
       "      <td>4</td>\n",
       "      <td>4</td>\n",
       "      <td>5</td>\n",
       "      <td>4</td>\n",
       "      <td>11</td>\n",
       "      <td>9</td>\n",
       "      <td>9</td>\n",
       "      <td>9</td>\n",
       "    </tr>\n",
       "    <tr>\n",
       "      <th>391</th>\n",
       "      <td>M</td>\n",
       "      <td>17</td>\n",
       "      <td>U</td>\n",
       "      <td>LE3</td>\n",
       "      <td>T</td>\n",
       "      <td>3</td>\n",
       "      <td>1</td>\n",
       "      <td>services</td>\n",
       "      <td>services</td>\n",
       "      <td>course</td>\n",
       "      <td>...</td>\n",
       "      <td>2</td>\n",
       "      <td>4</td>\n",
       "      <td>5</td>\n",
       "      <td>3</td>\n",
       "      <td>4</td>\n",
       "      <td>2</td>\n",
       "      <td>3</td>\n",
       "      <td>14</td>\n",
       "      <td>16</td>\n",
       "      <td>16</td>\n",
       "    </tr>\n",
       "    <tr>\n",
       "      <th>392</th>\n",
       "      <td>M</td>\n",
       "      <td>21</td>\n",
       "      <td>R</td>\n",
       "      <td>GT3</td>\n",
       "      <td>T</td>\n",
       "      <td>1</td>\n",
       "      <td>1</td>\n",
       "      <td>other</td>\n",
       "      <td>other</td>\n",
       "      <td>course</td>\n",
       "      <td>...</td>\n",
       "      <td>5</td>\n",
       "      <td>5</td>\n",
       "      <td>3</td>\n",
       "      <td>3</td>\n",
       "      <td>3</td>\n",
       "      <td>3</td>\n",
       "      <td>3</td>\n",
       "      <td>10</td>\n",
       "      <td>8</td>\n",
       "      <td>7</td>\n",
       "    </tr>\n",
       "    <tr>\n",
       "      <th>393</th>\n",
       "      <td>M</td>\n",
       "      <td>18</td>\n",
       "      <td>R</td>\n",
       "      <td>LE3</td>\n",
       "      <td>T</td>\n",
       "      <td>3</td>\n",
       "      <td>2</td>\n",
       "      <td>services</td>\n",
       "      <td>other</td>\n",
       "      <td>course</td>\n",
       "      <td>...</td>\n",
       "      <td>4</td>\n",
       "      <td>4</td>\n",
       "      <td>1</td>\n",
       "      <td>3</td>\n",
       "      <td>4</td>\n",
       "      <td>5</td>\n",
       "      <td>0</td>\n",
       "      <td>11</td>\n",
       "      <td>12</td>\n",
       "      <td>10</td>\n",
       "    </tr>\n",
       "    <tr>\n",
       "      <th>394</th>\n",
       "      <td>M</td>\n",
       "      <td>19</td>\n",
       "      <td>U</td>\n",
       "      <td>LE3</td>\n",
       "      <td>T</td>\n",
       "      <td>1</td>\n",
       "      <td>1</td>\n",
       "      <td>other</td>\n",
       "      <td>at_home</td>\n",
       "      <td>course</td>\n",
       "      <td>...</td>\n",
       "      <td>3</td>\n",
       "      <td>2</td>\n",
       "      <td>3</td>\n",
       "      <td>3</td>\n",
       "      <td>3</td>\n",
       "      <td>5</td>\n",
       "      <td>5</td>\n",
       "      <td>8</td>\n",
       "      <td>9</td>\n",
       "      <td>9</td>\n",
       "    </tr>\n",
       "  </tbody>\n",
       "</table>\n",
       "<p>395 rows × 32 columns</p>\n",
       "</div>"
      ],
      "text/plain": [
       "    sex  age address famsize Pstatus  Medu  Fedu      Mjob      Fjob  reason  \\\n",
       "0     F   18       U     GT3       A     4     4   at_home   teacher  course   \n",
       "1     F   17       U     GT3       T     1     1   at_home     other  course   \n",
       "2     F   15       U     LE3       T     1     1   at_home     other   other   \n",
       "3     F   15       U     GT3       T     4     2    health  services    home   \n",
       "4     F   16       U     GT3       T     3     3     other     other    home   \n",
       "..   ..  ...     ...     ...     ...   ...   ...       ...       ...     ...   \n",
       "390   M   20       U     LE3       A     2     2  services  services  course   \n",
       "391   M   17       U     LE3       T     3     1  services  services  course   \n",
       "392   M   21       R     GT3       T     1     1     other     other  course   \n",
       "393   M   18       R     LE3       T     3     2  services     other  course   \n",
       "394   M   19       U     LE3       T     1     1     other   at_home  course   \n",
       "\n",
       "     ... famrel  freetime  goout  Dalc Walc health absences  G1  G2  G3  \n",
       "0    ...      4         3      4     1    1      3        6   5   6   6  \n",
       "1    ...      5         3      3     1    1      3        4   5   5   6  \n",
       "2    ...      4         3      2     2    3      3       10   7   8  10  \n",
       "3    ...      3         2      2     1    1      5        2  15  14  15  \n",
       "4    ...      4         3      2     1    2      5        4   6  10  10  \n",
       "..   ...    ...       ...    ...   ...  ...    ...      ...  ..  ..  ..  \n",
       "390  ...      5         5      4     4    5      4       11   9   9   9  \n",
       "391  ...      2         4      5     3    4      2        3  14  16  16  \n",
       "392  ...      5         5      3     3    3      3        3  10   8   7  \n",
       "393  ...      4         4      1     3    4      5        0  11  12  10  \n",
       "394  ...      3         2      3     3    3      5        5   8   9   9  \n",
       "\n",
       "[395 rows x 32 columns]"
      ]
     },
     "execution_count": 4,
     "metadata": {},
     "output_type": "execute_result"
    }
   ],
   "source": [
    "students.drop(columns='school', inplace=True)\n",
    "students"
   ]
  },
  {
   "cell_type": "markdown",
   "id": "5205697b",
   "metadata": {},
   "source": [
    "# Estabelecendo o df de treinamento"
   ]
  },
  {
   "cell_type": "markdown",
   "id": "07cae3c4",
   "metadata": {},
   "source": [
    "A próxima etapa é transformar o df `students`, criando variáveis dummies para as colunas que contém variáveis qualitativas, e, por fim, criando um novo df, `train`, para treinamento do classificador (que veremos mais a frente)."
   ]
  },
  {
   "cell_type": "code",
   "execution_count": 5,
   "id": "c2be1bfd",
   "metadata": {},
   "outputs": [
    {
     "data": {
      "text/html": [
       "<div>\n",
       "<style scoped>\n",
       "    .dataframe tbody tr th:only-of-type {\n",
       "        vertical-align: middle;\n",
       "    }\n",
       "\n",
       "    .dataframe tbody tr th {\n",
       "        vertical-align: top;\n",
       "    }\n",
       "\n",
       "    .dataframe thead th {\n",
       "        text-align: right;\n",
       "    }\n",
       "</style>\n",
       "<table border=\"1\" class=\"dataframe\">\n",
       "  <thead>\n",
       "    <tr style=\"text-align: right;\">\n",
       "      <th></th>\n",
       "      <th>age</th>\n",
       "      <th>Medu</th>\n",
       "      <th>Fedu</th>\n",
       "      <th>traveltime</th>\n",
       "      <th>studytime</th>\n",
       "      <th>failures</th>\n",
       "      <th>famrel</th>\n",
       "      <th>freetime</th>\n",
       "      <th>goout</th>\n",
       "      <th>Dalc</th>\n",
       "      <th>...</th>\n",
       "      <th>guardian_mother</th>\n",
       "      <th>guardian_other</th>\n",
       "      <th>schoolsup_yes</th>\n",
       "      <th>famsup_yes</th>\n",
       "      <th>paid_yes</th>\n",
       "      <th>activities_yes</th>\n",
       "      <th>nursery_yes</th>\n",
       "      <th>higher_yes</th>\n",
       "      <th>internet_yes</th>\n",
       "      <th>romantic_yes</th>\n",
       "    </tr>\n",
       "  </thead>\n",
       "  <tbody>\n",
       "    <tr>\n",
       "      <th>0</th>\n",
       "      <td>18</td>\n",
       "      <td>4</td>\n",
       "      <td>4</td>\n",
       "      <td>2</td>\n",
       "      <td>2</td>\n",
       "      <td>0</td>\n",
       "      <td>4</td>\n",
       "      <td>3</td>\n",
       "      <td>4</td>\n",
       "      <td>1</td>\n",
       "      <td>...</td>\n",
       "      <td>1</td>\n",
       "      <td>0</td>\n",
       "      <td>1</td>\n",
       "      <td>0</td>\n",
       "      <td>0</td>\n",
       "      <td>0</td>\n",
       "      <td>1</td>\n",
       "      <td>1</td>\n",
       "      <td>0</td>\n",
       "      <td>0</td>\n",
       "    </tr>\n",
       "    <tr>\n",
       "      <th>1</th>\n",
       "      <td>17</td>\n",
       "      <td>1</td>\n",
       "      <td>1</td>\n",
       "      <td>1</td>\n",
       "      <td>2</td>\n",
       "      <td>0</td>\n",
       "      <td>5</td>\n",
       "      <td>3</td>\n",
       "      <td>3</td>\n",
       "      <td>1</td>\n",
       "      <td>...</td>\n",
       "      <td>0</td>\n",
       "      <td>0</td>\n",
       "      <td>0</td>\n",
       "      <td>1</td>\n",
       "      <td>0</td>\n",
       "      <td>0</td>\n",
       "      <td>0</td>\n",
       "      <td>1</td>\n",
       "      <td>1</td>\n",
       "      <td>0</td>\n",
       "    </tr>\n",
       "    <tr>\n",
       "      <th>2</th>\n",
       "      <td>15</td>\n",
       "      <td>1</td>\n",
       "      <td>1</td>\n",
       "      <td>1</td>\n",
       "      <td>2</td>\n",
       "      <td>3</td>\n",
       "      <td>4</td>\n",
       "      <td>3</td>\n",
       "      <td>2</td>\n",
       "      <td>2</td>\n",
       "      <td>...</td>\n",
       "      <td>1</td>\n",
       "      <td>0</td>\n",
       "      <td>1</td>\n",
       "      <td>0</td>\n",
       "      <td>1</td>\n",
       "      <td>0</td>\n",
       "      <td>1</td>\n",
       "      <td>1</td>\n",
       "      <td>1</td>\n",
       "      <td>0</td>\n",
       "    </tr>\n",
       "    <tr>\n",
       "      <th>3</th>\n",
       "      <td>15</td>\n",
       "      <td>4</td>\n",
       "      <td>2</td>\n",
       "      <td>1</td>\n",
       "      <td>3</td>\n",
       "      <td>0</td>\n",
       "      <td>3</td>\n",
       "      <td>2</td>\n",
       "      <td>2</td>\n",
       "      <td>1</td>\n",
       "      <td>...</td>\n",
       "      <td>1</td>\n",
       "      <td>0</td>\n",
       "      <td>0</td>\n",
       "      <td>1</td>\n",
       "      <td>1</td>\n",
       "      <td>1</td>\n",
       "      <td>1</td>\n",
       "      <td>1</td>\n",
       "      <td>1</td>\n",
       "      <td>1</td>\n",
       "    </tr>\n",
       "    <tr>\n",
       "      <th>4</th>\n",
       "      <td>16</td>\n",
       "      <td>3</td>\n",
       "      <td>3</td>\n",
       "      <td>1</td>\n",
       "      <td>2</td>\n",
       "      <td>0</td>\n",
       "      <td>4</td>\n",
       "      <td>3</td>\n",
       "      <td>2</td>\n",
       "      <td>1</td>\n",
       "      <td>...</td>\n",
       "      <td>0</td>\n",
       "      <td>0</td>\n",
       "      <td>0</td>\n",
       "      <td>1</td>\n",
       "      <td>1</td>\n",
       "      <td>0</td>\n",
       "      <td>1</td>\n",
       "      <td>1</td>\n",
       "      <td>0</td>\n",
       "      <td>0</td>\n",
       "    </tr>\n",
       "  </tbody>\n",
       "</table>\n",
       "<p>5 rows × 41 columns</p>\n",
       "</div>"
      ],
      "text/plain": [
       "   age  Medu  Fedu  traveltime  studytime  failures  famrel  freetime  goout  \\\n",
       "0   18     4     4           2          2         0       4         3      4   \n",
       "1   17     1     1           1          2         0       5         3      3   \n",
       "2   15     1     1           1          2         3       4         3      2   \n",
       "3   15     4     2           1          3         0       3         2      2   \n",
       "4   16     3     3           1          2         0       4         3      2   \n",
       "\n",
       "   Dalc  ...  guardian_mother  guardian_other  schoolsup_yes  famsup_yes  \\\n",
       "0     1  ...                1               0              1           0   \n",
       "1     1  ...                0               0              0           1   \n",
       "2     2  ...                1               0              1           0   \n",
       "3     1  ...                1               0              0           1   \n",
       "4     1  ...                0               0              0           1   \n",
       "\n",
       "   paid_yes  activities_yes  nursery_yes  higher_yes  internet_yes  \\\n",
       "0         0               0            1           1             0   \n",
       "1         0               0            0           1             1   \n",
       "2         1               0            1           1             1   \n",
       "3         1               1            1           1             1   \n",
       "4         1               0            1           1             0   \n",
       "\n",
       "   romantic_yes  \n",
       "0             0  \n",
       "1             0  \n",
       "2             0  \n",
       "3             1  \n",
       "4             0  \n",
       "\n",
       "[5 rows x 41 columns]"
      ]
     },
     "execution_count": 5,
     "metadata": {},
     "output_type": "execute_result"
    }
   ],
   "source": [
    "train = students.copy()\n",
    "label_dummies = []\n",
    "for column in train.columns:\n",
    "    if train[column].dtype.kind == 'O':\n",
    "        dummies = pd.get_dummies(train[column]).iloc[:, 1:]\n",
    "        label_dummies.append(dummies.columns.values.tolist())\n",
    "        dummies.columns = [f'{column}_{col}' for col in dummies.columns]\n",
    "        train = pd.concat(\n",
    "            [\n",
    "                train, dummies\n",
    "            ], axis=1\n",
    "        )\n",
    "        train.drop(columns=column, inplace=True)\n",
    "train.head(5)"
   ]
  },
  {
   "cell_type": "markdown",
   "id": "2d21d917",
   "metadata": {},
   "source": [
    "# Análise Exploratória"
   ]
  },
  {
   "cell_type": "markdown",
   "id": "4137e9f3",
   "metadata": {},
   "source": [
    "## Features x Features"
   ]
  },
  {
   "cell_type": "markdown",
   "id": "5b25612a",
   "metadata": {},
   "source": [
    "Antes de iniciarmos o treinamento com nosso classificador, devemos fazer a análise exploratória dos dados que possuímos em mãos.\n",
    "\n",
    "Portanto, começamos separando o target e as features em arrays diferentes, respectivamente, `target` e `features`. Isso irá facilitar no futuro o uso destes dados no classificador."
   ]
  },
  {
   "cell_type": "code",
   "execution_count": 6,
   "id": "d781412d",
   "metadata": {},
   "outputs": [],
   "source": [
    "target = train.G3.to_numpy()\n",
    "features = train.drop(columns='G3').to_numpy()"
   ]
  },
  {
   "cell_type": "markdown",
   "id": "a0c24b9e",
   "metadata": {},
   "source": [
    "Agora, começamos procurando por features que possuem forte correlação com outras features, ou seja, features que quando relacionadas com o target, apresentam influência muito semelhante e que, portanto, podem ser simplificadas em uma só. \n",
    "\n",
    "Começamos criando um df contendo somente as features, `df_features`.\n",
    "\n",
    "Assim, devemos utilizar o método `.corr()` do pd para obter as correlações entre as features do df. Vale lembrar que uma correlação é forte se: `|corr| >= 0.7`.\n",
    "\n",
    "Para guardarmos todas as correlações entre cada feature, criamos o `features_corr`, cujas colunas e linhas representam, cada uma, uma feature. \n",
    "\n",
    "Por fim, percorremos `features_corr` em busca de alguma correlação forte com outra feature. Lembrando que as `|corr| == 1` são resultado de uma linha e uma coluna da mesma feature."
   ]
  },
  {
   "cell_type": "code",
   "execution_count": 7,
   "id": "7d624305",
   "metadata": {},
   "outputs": [
    {
     "name": "stdout",
     "output_type": "stream",
     "text": [
      "0.852118066364806\n",
      "coluna: G1\n",
      "-----------\n",
      "0.852118066364806\n",
      "coluna: G2\n",
      "-----------\n"
     ]
    }
   ],
   "source": [
    "df_features = (train.drop(columns='G3'))\n",
    "features_corr = df_features.corr()\n",
    "for coluna in list(features_corr):\n",
    "    for correlation in features_corr[coluna]:\n",
    "        if correlation >= 0.7 and correlation != 1.0:\n",
    "            print(correlation)\n",
    "            print(f'coluna: {coluna}')\n",
    "            print('-----------')"
   ]
  },
  {
   "cell_type": "markdown",
   "id": "e503656c",
   "metadata": {},
   "source": [
    "Após a análise do `df_features` pode-se concluir que todas as features que foram comparadas entre si tem correlação fraca ou moderada, exceto `G1` e `G2`.\n",
    "\n",
    "Porém tais features serão cruciais para, mais a frente, analisar o comportamento do target `G3`. Assim, não devemos uní-las.\n",
    "\n",
    "Então, não descartaremos ou uniremos nenhuma variável."
   ]
  },
  {
   "cell_type": "markdown",
   "id": "e15842c2",
   "metadata": {},
   "source": [
    "## Target x Features"
   ]
  },
  {
   "cell_type": "markdown",
   "id": "d3b758db",
   "metadata": {},
   "source": [
    "Agora que testamos a correlação entre as features, partiremos para correlacionar o `target` com cada feature individualmente.\n",
    "\n",
    "Para isso, utilizamos o método do pd para df, chamado `.corrwith()`.\n",
    "\n",
    "Como iremos usá-lo juntamente com um Series (df com somente 1 coluna), contendo o target, o método devolverá um Series contendo as correlações entre o target e as features."
   ]
  },
  {
   "cell_type": "code",
   "execution_count": 14,
   "id": "6107321e",
   "metadata": {},
   "outputs": [
    {
     "data": {
      "text/plain": [
       "failures            -0.360415\n",
       "age                 -0.161579\n",
       "goout               -0.132791\n",
       "romantic_yes        -0.129970\n",
       "traveltime          -0.117142\n",
       "Mjob_other          -0.096477\n",
       "guardian_other      -0.087774\n",
       "schoolsup_yes       -0.082788\n",
       "health              -0.061335\n",
       "Pstatus_T           -0.058009\n",
       "Dalc                -0.054660\n",
       "Fjob_other          -0.053483\n",
       "Walc                -0.051939\n",
       "famsup_yes          -0.039157\n",
       "reason_home         -0.021359\n",
       "Fjob_services       -0.016108\n",
       "freetime             0.011307\n",
       "activities_yes       0.016100\n",
       "guardian_mother      0.022338\n",
       "absences             0.034247\n",
       "famrel               0.051363\n",
       "nursery_yes          0.051568\n",
       "reason_other         0.052008\n",
       "Fjob_health          0.057111\n",
       "Mjob_teacher         0.057712\n",
       "Mjob_services        0.078429\n",
       "famsize_LE3          0.081407\n",
       "Fjob_teacher         0.095374\n",
       "reason_reputation    0.095692\n",
       "studytime            0.097820\n",
       "internet_yes         0.098483\n",
       "paid_yes             0.101996\n",
       "sex_M                0.103456\n",
       "address_U            0.105756\n",
       "Mjob_health          0.116158\n",
       "Fedu                 0.152457\n",
       "higher_yes           0.182465\n",
       "Medu                 0.217147\n",
       "G1                   0.801468\n",
       "G2                   0.904868\n",
       "dtype: float64"
      ]
     },
     "execution_count": 14,
     "metadata": {},
     "output_type": "execute_result"
    }
   ],
   "source": [
    "target_corr = df_features.corrwith(train.G3, method='pearson')\n",
    "target_corr.sort_values(ascending=True, inplace=True)\n",
    "target_corr"
   ]
  },
  {
   "cell_type": "markdown",
   "id": "32d3b389",
   "metadata": {},
   "source": [
    "Portanto, com base no que foi observado acima, confirmamos que a variável target somente apresenta forte correlação com `G1` e `G2`, sendo que com o restante das features possui baixa correlação."
   ]
  },
  {
   "cell_type": "markdown",
   "id": "54a7dced",
   "metadata": {},
   "source": [
    "## Gráfico de box"
   ]
  },
  {
   "cell_type": "markdown",
   "id": "206ac18e",
   "metadata": {},
   "source": [
    "Para entendermos melhor o papel das variáveis qualitativas em relação ao target, usaremos o gráfico do tipo `boxplot`.\n",
    "\n",
    "Começamos definindo uma lista com os nomes das features que possuem valores qualitativos."
   ]
  },
  {
   "cell_type": "code",
   "execution_count": 9,
   "id": "c33aff82",
   "metadata": {},
   "outputs": [],
   "source": [
    "students_columns = ['famsup','guardian','internet','famsize','paid','Pstatus','Fjob','Mjob','schoolsup','nursery','address','activities','romantic','guardian','sex','higher','reason']\n"
   ]
  },
  {
   "cell_type": "markdown",
   "id": "17eaaf00",
   "metadata": {},
   "source": [
    "Depois, preparamos o plot do gráfico entre as colunas citadas acima e o target."
   ]
  },
  {
   "cell_type": "code",
   "execution_count": 11,
   "id": "fb202e85",
   "metadata": {},
   "outputs": [
    {
     "data": {
      "image/png": "[encoded data removed]",
      "text/plain": [
       "<Figure size 432x288 with 1 Axes>"
      ]
     },
     "metadata": {},
     "output_type": "display_data"
    },
    {
     "data": {
      "image/png": "[encoded data removed]",
      "text/plain": [
       "<Figure size 432x288 with 1 Axes>"
      ]
     },
     "metadata": {},
     "output_type": "display_data"
    },
    {
     "data": {
      "image/png": "[encoded data removed]",
      "text/plain": [
       "<Figure size 432x288 with 1 Axes>"
      ]
     },
     "metadata": {},
     "output_type": "display_data"
    },
    {
     "data": {
      "image/png": "[encoded data removed]",
      "text/plain": [
       "<Figure size 432x288 with 1 Axes>"
      ]
     },
     "metadata": {},
     "output_type": "display_data"
    },
    {
     "data": {
      "image/png": "[encoded data removed]",
      "text/plain": [
       "<Figure size 432x288 with 1 Axes>"
      ]
     },
     "metadata": {},
     "output_type": "display_data"
    },
    {
     "data": {
      "image/png": "[encoded data removed]",
      "text/plain": [
       "<Figure size 432x288 with 1 Axes>"
      ]
     },
     "metadata": {},
     "output_type": "display_data"
    },
    {
     "data": {
      "image/png": "[encoded data removed]",
      "text/plain": [
       "<Figure size 432x288 with 1 Axes>"
      ]
     },
     "metadata": {},
     "output_type": "display_data"
    },
    {
     "data": {
      "image/png": "[encoded data removed]",
      "text/plain": [
       "<Figure size 432x288 with 1 Axes>"
      ]
     },
     "metadata": {},
     "output_type": "display_data"
    },
    {
     "data": {
      "image/png": "[encoded data removed]",
      "text/plain": [
       "<Figure size 432x288 with 1 Axes>"
      ]
     },
     "metadata": {},
     "output_type": "display_data"
    },
    {
     "data": {
      "image/png": "[encoded data removed]",
      "text/plain": [
       "<Figure size 432x288 with 1 Axes>"
      ]
     },
     "metadata": {},
     "output_type": "display_data"
    },
    {
     "data": {
      "image/png": "[encoded data removed]",
      "text/plain": [
       "<Figure size 432x288 with 1 Axes>"
      ]
     },
     "metadata": {},
     "output_type": "display_data"
    },
    {
     "data": {
      "image/png": "[encoded data removed]",
      "text/plain": [
       "<Figure size 432x288 with 1 Axes>"
      ]
     },
     "metadata": {},
     "output_type": "display_data"
    },
    {
     "data": {
      "image/png": "[encoded data removed]",
      "text/plain": [
       "<Figure size 432x288 with 1 Axes>"
      ]
     },
     "metadata": {},
     "output_type": "display_data"
    },
    {
     "data": {
      "image/png": "[encoded data removed]",
      "text/plain": [
       "<Figure size 432x288 with 1 Axes>"
      ]
     },
     "metadata": {},
     "output_type": "display_data"
    },
    {
     "data": {
      "image/png": "[encoded data removed]",
      "text/plain": [
       "<Figure size 432x288 with 1 Axes>"
      ]
     },
     "metadata": {},
     "output_type": "display_data"
    },
    {
     "data": {
      "image/png": "[encoded data removed]",
      "text/plain": [
       "<Figure size 432x288 with 1 Axes>"
      ]
     },
     "metadata": {},
     "output_type": "display_data"
    },
    {
     "data": {
      "image/png": "[encoded data removed]",
      "text/plain": [
       "<Figure size 432x288 with 1 Axes>"
      ]
     },
     "metadata": {},
     "output_type": "display_data"
    }
   ],
   "source": [
    "for qlt_col in students_columns:\n",
    "    sns.set_style(\"whitegrid\")\n",
    "    sns.boxplot(x = f'{qlt_col}', y = 'G3', data = (students))\n",
    "    plt.show();"
   ]
  },
  {
   "cell_type": "markdown",
   "id": "121de62d",
   "metadata": {},
   "source": [
    "Interpretaremos os resultados acima na próxima secção."
   ]
  },
  {
   "cell_type": "markdown",
   "id": "9fdba7b2",
   "metadata": {},
   "source": [
    "## Modelo"
   ]
  },
  {
   "cell_type": "markdown",
   "id": "6c18ba99",
   "metadata": {},
   "source": [
    "### Regressão Linear"
   ]
  },
  {
   "cell_type": "code",
   "execution_count": 12,
   "id": "36e313c8",
   "metadata": {},
   "outputs": [
    {
     "ename": "ModuleNotFoundError",
     "evalue": "No module named 'sklearn'",
     "output_type": "error",
     "traceback": [
      "\u001b[0;31m---------------------------------------------------------------------------\u001b[0m",
      "\u001b[0;31mModuleNotFoundError\u001b[0m                       Traceback (most recent call last)",
      "\u001b[0;32m/tmp/ipykernel_24013/2774998493.py\u001b[0m in \u001b[0;36m<module>\u001b[0;34m\u001b[0m\n\u001b[0;32m----> 1\u001b[0;31m \u001b[0;32mfrom\u001b[0m \u001b[0msklearn\u001b[0m\u001b[0;34m.\u001b[0m\u001b[0mlinear_model\u001b[0m \u001b[0;32mimport\u001b[0m \u001b[0mLinearRegression\u001b[0m\u001b[0;34m\u001b[0m\u001b[0;34m\u001b[0m\u001b[0m\n\u001b[0m\u001b[1;32m      2\u001b[0m \u001b[0;32mfrom\u001b[0m \u001b[0msklearn\u001b[0m\u001b[0;34m.\u001b[0m\u001b[0mmodel_selection\u001b[0m \u001b[0;32mimport\u001b[0m \u001b[0mtrain_test_split\u001b[0m\u001b[0;34m\u001b[0m\u001b[0;34m\u001b[0m\u001b[0m\n\u001b[1;32m      3\u001b[0m \u001b[0;34m\u001b[0m\u001b[0m\n\u001b[1;32m      4\u001b[0m \u001b[0;34m\u001b[0m\u001b[0m\n\u001b[1;32m      5\u001b[0m \u001b[0mX_train\u001b[0m\u001b[0;34m,\u001b[0m \u001b[0mX_test\u001b[0m\u001b[0;34m,\u001b[0m \u001b[0mY_train\u001b[0m\u001b[0;34m,\u001b[0m \u001b[0mY_test\u001b[0m \u001b[0;34m=\u001b[0m \u001b[0mtrain_test_split\u001b[0m\u001b[0;34m(\u001b[0m\u001b[0mfeatures\u001b[0m\u001b[0;34m,\u001b[0m \u001b[0mtarget\u001b[0m\u001b[0;34m,\u001b[0m \u001b[0mtest_size\u001b[0m\u001b[0;34m=\u001b[0m\u001b[0;36m0.3\u001b[0m\u001b[0;34m)\u001b[0m\u001b[0;34m\u001b[0m\u001b[0;34m\u001b[0m\u001b[0m\n",
      "\u001b[0;31mModuleNotFoundError\u001b[0m: No module named 'sklearn'"
     ]
    }
   ],
   "source": [
    "from sklearn.linear_model import LinearRegression\n",
    "from sklearn.model_selection import train_test_split\n",
    "\n",
    "\n",
    "X_train, X_test, Y_train, Y_test = train_test_split(features, target, test_size=0.3)\n",
    "model = LinearRegression()\n",
    "model.fit(X_train, Y_train)\n",
    "Y_pred = model.predict(X_test)\n"
   ]
  },
  {
   "cell_type": "code",
   "execution_count": null,
   "id": "24bfdded",
   "metadata": {},
   "outputs": [],
   "source": [
    "from sklearn.metrics import mean_squared_error, mean_absolute_error, r2_score\n",
    "\n",
    "# abs(Y_test - abs(Y_pred)).mean()\n",
    "print(f'Erro absoluto médio: {mean_absolute_error(Y_test, Y_pred)}')\n",
    "print(f'Raiz do erro quadrático médio: {mean_squared_error(Y_test, Y_pred)**0.5}')\n",
    "print(f'R²: {r2_score(Y_test, Y_pred)}')\n",
    "\n"
   ]
  },
  {
   "cell_type": "markdown",
   "id": "4a77d035",
   "metadata": {},
   "source": [
    "### Resultados para 10 ciclos - Regressão Linear"
   ]
  },
  {
   "cell_type": "code",
   "execution_count": null,
   "id": "d291843d",
   "metadata": {},
   "outputs": [],
   "source": [
    "from sklearn.linear_model import LinearRegression\n",
    "from sklearn.model_selection import train_test_split\n",
    "from sklearn.metrics import mean_squared_error, mean_absolute_error, r2_score\n",
    "\n",
    "resultados = []\n",
    "\n",
    "for _ in range(10):\n",
    "    X_train, X_test, Y_train, Y_test = train_test_split(features, target, test_size=0.3)\n",
    "    model = LinearRegression()\n",
    "    model.fit(X_train, Y_train)\n",
    "    Y_pred = model.predict(X_test)\n",
    "    resultados.append([\n",
    "        mean_absolute_error(Y_test, Y_pred), \n",
    "        mean_squared_error(Y_test, Y_pred)**0.5, \n",
    "        r2_score(Y_test, Y_pred)\n",
    "\n",
    "    ])\n",
    "    \n",
    "resultados = np.array(resultados).mean(axis=0)\n",
    "print(f'Erro absoluto médio: {resultados[0]}')\n",
    "print(f'Raiz do erro quadrático médio: {resultados[1]}')\n",
    "print(f'R²: {resultados[2]}')\n"
   ]
  },
  {
   "cell_type": "markdown",
   "id": "e03fa153",
   "metadata": {},
   "source": [
    "### KNN "
   ]
  },
  {
   "cell_type": "code",
   "execution_count": null,
   "id": "bf393548",
   "metadata": {},
   "outputs": [],
   "source": [
    "from sklearn.neighbors import KNeighborsClassifier\n",
    "from sklearn.model_selection import train_test_split\n",
    "\n",
    "\n",
    "X_train, X_test, Y_train, Y_test = train_test_split(features, target, test_size=0.3)\n",
    "model2 = KNeighborsClassifier()\n",
    "model2.fit(X_train, Y_train)\n",
    "Y_pred = model2.predict(X_test)"
   ]
  },
  {
   "cell_type": "code",
   "execution_count": null,
   "id": "fdec80be",
   "metadata": {},
   "outputs": [],
   "source": [
    "from sklearn.metrics import mean_squared_error, mean_absolute_error, r2_score\n",
    "\n",
    "# abs(Y_test - abs(Y_pred)).mean()\n",
    "print(f'Erro absoluto médio: {mean_absolute_error(Y_test, Y_pred)}')\n",
    "print(f'Raiz do erro quadrático médio: {mean_squared_error(Y_test, Y_pred)**0.5}')\n",
    "print(f'R²: {r2_score(Y_test, Y_pred)}')\n"
   ]
  },
  {
   "cell_type": "markdown",
   "id": "66bbe193",
   "metadata": {},
   "source": [
    "### Resultados para 10 ciclos - KNN"
   ]
  },
  {
   "cell_type": "code",
   "execution_count": null,
   "id": "b8aad0dd",
   "metadata": {},
   "outputs": [],
   "source": [
    "from sklearn.neighbors import KNeighborsClassifier\n",
    "from sklearn.model_selection import train_test_split\n",
    "from sklearn.metrics import mean_squared_error, mean_absolute_error, r2_score\n",
    "\n",
    "resultadosKNN = []\n",
    "\n",
    "for _ in range(10):\n",
    "    X_train, X_test, Y_train, Y_test = train_test_split(features, target, test_size=0.3)\n",
    "    model2 = KNeighborsClassifier()\n",
    "    model2.fit(X_train, Y_train)\n",
    "    Y_pred = model2.predict(X_test)\n",
    "    resultadosKNN.append([\n",
    "        mean_absolute_error(Y_test, Y_pred), \n",
    "        mean_squared_error(Y_test, Y_pred)**0.5, \n",
    "        r2_score(Y_test, Y_pred)\n",
    "\n",
    "    ])\n",
    "    \n",
    "resultadosKNN = np.array(resultadosKNN).mean(axis=0)\n",
    "print(f'Erro absoluto médio: {resultadosKNN[0]}')\n",
    "print(f'Raiz do erro quadrático médio: {resultadosKNN[1]}')\n",
    "print(f'R²: {resultadosKNN[2]}')"
   ]
  },
  {
   "cell_type": "markdown",
   "id": "9750b372",
   "metadata": {},
   "source": [
    "## Referências Bibliográficas\n",
    "\n",
    "- to-do"
   ]
  },
  {
   "cell_type": "markdown",
   "id": "ccce3e4b",
   "metadata": {},
   "source": []
  }
 ],
 "metadata": {
  "kernelspec": {
   "display_name": "Python 3",
   "language": "python",
   "name": "python3"
  },
  "language_info": {
   "codemirror_mode": {
    "name": "ipython",
    "version": 3
   },
   "file_extension": ".py",
   "mimetype": "text/x-python",
   "name": "python",
   "nbconvert_exporter": "python",
   "pygments_lexer": "ipython3",
   "version": "3.8.10"
  }
 },
 "nbformat": 4,
 "nbformat_minor": 5
}
