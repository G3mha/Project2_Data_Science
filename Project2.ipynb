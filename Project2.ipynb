{
 "cells": [
  {
   "cell_type": "markdown",
   "id": "1c410472",
   "metadata": {},
   "source": [
    "# Projeto 2 - C Dados\n",
    "\n",
    "_Português - Este Projeto está atualmente sendo mantido por Enricco Gemha, Paola BBS Friedel, Rafael C Leventhal, Marcelo R Barranco._\n",
    "\n",
    "_English - This Project is currently being held by Enricco Gemha, Paola BBS Friedel, Rafael C Leventhal, Marcelo R Barranco._"
   ]
  },
  {
   "cell_type": "markdown",
   "id": "0ddbe8d0",
   "metadata": {},
   "source": [
    "## Aviso\n",
    "Para nos referirmos a certos termos recorrentes, usaremos abreviações, todas listadas abaixo:\n",
    "- df: DataFrame\n",
    "- pd: biblioteca do Python chamada Pandas"
   ]
  },
  {
   "cell_type": "markdown",
   "id": "d2926168",
   "metadata": {},
   "source": [
    "## Kickstart do Projeto"
   ]
  },
  {
   "cell_type": "code",
   "execution_count": null,
   "id": "05f44dfa",
   "metadata": {},
   "outputs": [],
   "source": [
    "# importando bibliotecas que serão utilizadas e definindo ajustes\n",
    "%matplotlib inline\n",
    "import pandas as pd\n",
    "import numpy as np\n",
    "import seaborn as sns\n",
    "from scipy import stats\n",
    "import matplotlib.pyplot as plt"
   ]
  },
  {
   "cell_type": "code",
   "execution_count": null,
   "id": "c15d1974",
   "metadata": {},
   "outputs": [],
   "source": [
    "# transformando a database em um df do pd\n",
    "students = pd.read_csv('students.csv')"
   ]
  },
  {
   "cell_type": "code",
   "execution_count": null,
   "id": "ae861b2b",
   "metadata": {},
   "outputs": [],
   "source": [
    "# checando o df\n",
    "students"
   ]
  },
  {
   "cell_type": "markdown",
   "id": "9f0ff8cc",
   "metadata": {},
   "source": [
    "## Limpando o df"
   ]
  },
  {
   "cell_type": "markdown",
   "id": "e03e9b50",
   "metadata": {},
   "source": [
    "**1º passo**: Retirar as features (colunas) cujas informações não serão utilizadas nesse projeto."
   ]
  },
  {
   "cell_type": "code",
   "execution_count": null,
   "id": "d00a2e88",
   "metadata": {},
   "outputs": [],
   "source": [
    "students.drop(columns=['G2', 'G1', 'guardian', 'school'], inplace=True)\n",
    "students"
   ]
  },
  {
   "cell_type": "markdown",
   "id": "07cae3c4",
   "metadata": {},
   "source": [
    "A próxima etapa é transformar as variáveis qualitativas em quantitativas."
   ]
  },
  {
   "cell_type": "code",
   "execution_count": null,
   "id": "c2be1bfd",
   "metadata": {},
   "outputs": [],
   "source": [
    "dic_qlt = {'sex': {'F': 1, 'M': 2}, 'address': {'U': 1, 'R': 2}, 'famsize': {'LE3': 1, 'GT3': 2}, 'Pstatus': {'T': 1, 'A': 2}, 'Mjob': {'teacher': 1, 'health': 2, 'services': 3, 'at_home': 4, 'other': 5}, 'Fjob': {'teacher': 1, 'health': 2, 'services': 3, 'at_home': 4, 'other': 5}, 'reason': {'home': 1, 'reputation': 2, 'course': 3, 'other': 4}, 'schoolsup': {'yes': 1, 'no': 2}, 'famsup': {'yes': 1, 'no': 2}, 'paid': {'yes': 1, 'no': 2}, 'activities': {'yes': 1, 'no': 2}, 'nursery': {'yes': 1, 'no': 2}, 'higher': {'yes': 1, 'no': 2}, 'internet': {'yes': 1, 'no': 2}, 'romantic': {'yes': 1, 'no': 2}}\n",
    "lista_qlt = list(dic_qlt.keys())\n",
    "for coluna in lista_qlt:\n",
    "    lista_final = []\n",
    "    for var in students[coluna]:\n",
    "        dic_qlt_coluna = dic_qlt[coluna]\n",
    "        lista_final.append(dic_qlt_coluna[var])\n",
    "    # print(len(lista_final))\n",
    "    # print(len(list(students[coluna])))\n",
    "    (students[coluna]).replace(list(students[coluna]), lista_final, inplace=True)\n",
    "students"
   ]
  },
  {
   "cell_type": "markdown",
   "id": "a0c24b9e",
   "metadata": {},
   "source": [
    "**2º passo**: Com o objetivo de encontrar features que possuem forte correlação, ou seja, cujos temas convergem, devemos utilizar o comando `.corr()` para obter as correlações entre as features do df. Vale lembrar que uma correlação é forte se: `|corr| >= 0.7`"
   ]
  },
  {
   "cell_type": "code",
   "execution_count": null,
   "id": "d781412d",
   "metadata": {},
   "outputs": [],
   "source": [
    "# separando o target e as features em 2 variáveis diferentes\n",
    "target = students.G3\n",
    "features = students.drop(columns='G3')"
   ]
  },
  {
   "cell_type": "code",
   "execution_count": null,
   "id": "7d624305",
   "metadata": {},
   "outputs": [],
   "source": [
    "corr_features = features.corr()\n",
    "plt.figure(figsize=(100,80))\n",
    "sns.heatmap(corr_features, annot=True)\n",
    "plt.tight_layout();"
   ]
  },
  {
   "cell_type": "markdown",
   "id": "e503656c",
   "metadata": {},
   "source": [
    "Após a análise do df `corr_features_qnt` pode-se concluir que todas as features quantitativas que foram comparadas tem correlação fraca ou moderada, o que impossibilita que sejam unidas por semelhança. "
   ]
  },
  {
   "cell_type": "markdown",
   "id": "2d21d917",
   "metadata": {},
   "source": [
    "## Análise Exploratória"
   ]
  },
  {
   "cell_type": "markdown",
   "id": "9750b372",
   "metadata": {},
   "source": [
    "## Referências Bibliográficas\n",
    "\n",
    "- to-do"
   ]
  }
 ],
 "metadata": {
  "kernelspec": {
   "display_name": "Python 3",
   "language": "python",
   "name": "python3"
  },
  "language_info": {
   "codemirror_mode": {
    "name": "ipython",
    "version": 3
   },
   "file_extension": ".py",
   "mimetype": "text/x-python",
   "name": "python",
   "nbconvert_exporter": "python",
   "pygments_lexer": "ipython3",
   "version": "3.8.8"
  }
 },
 "nbformat": 4,
 "nbformat_minor": 5
}
